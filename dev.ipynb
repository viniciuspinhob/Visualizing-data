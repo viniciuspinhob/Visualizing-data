{
 "cells": [
  {
   "cell_type": "code",
   "execution_count": null,
   "metadata": {},
   "outputs": [],
   "source": [
    "import pandas as pd\n",
    "from src.process_data import preprocess_data"
   ]
  },
  {
   "cell_type": "code",
   "execution_count": null,
   "metadata": {},
   "outputs": [],
   "source": [
    "df = pd.DataFrame(\n",
    "    columns=['Timestamp', 'Estado', \n",
    "             'Consumo Residencial', 'Consumo Industrial', \n",
    "             'População', 'Pib', 'IDEB']\n",
    "    )\n",
    "df"
   ]
  },
  {
   "attachments": {},
   "cell_type": "markdown",
   "metadata": {},
   "source": [
    "## Consumo energético"
   ]
  },
  {
   "attachments": {},
   "cell_type": "markdown",
   "metadata": {},
   "source": [
    "### Residencial"
   ]
  },
  {
   "cell_type": "code",
   "execution_count": null,
   "metadata": {},
   "outputs": [],
   "source": [
    "path2_consumo_residencial = 'data/energy/Consumo_residencial_por_UF.csv'\n",
    "df_consumo_residencial = pd.read_csv(path2_consumo_residencial)\n",
    "df_consumo_residencial.head(1)"
   ]
  },
  {
   "cell_type": "code",
   "execution_count": null,
   "metadata": {},
   "outputs": [],
   "source": [
    "df_r = pd.DataFrame(\n",
    "    columns=['Timestamp', 'Estado', 'Consumo Residencial']\n",
    "    )\n",
    "df_r\n",
    "for idx, row in df_consumo_residencial.iterrows():\n",
    "    timestamp = []\n",
    "    estado = []\n",
    "    consumo_residencial = []\n",
    "    for key in row.keys():\n",
    "        timestamp.append(key)\n",
    "        estado.append(row['UF'])\n",
    "        consumo_residencial.append(row[key])\n",
    "    data = {\n",
    "        'Timestamp': timestamp,\n",
    "        'Estado': estado,\n",
    "        'Consumo Residencial': consumo_residencial\n",
    "    }\n",
    "    df_r = pd.concat([df_r, pd.DataFrame.from_dict(data)])\n",
    "df_r = df_r[1:]\n",
    "df_r"
   ]
  },
  {
   "attachments": {},
   "cell_type": "markdown",
   "metadata": {},
   "source": [
    "### Industrial"
   ]
  },
  {
   "cell_type": "code",
   "execution_count": null,
   "metadata": {},
   "outputs": [],
   "source": [
    "path2_consumo_industrial = 'data/energy/Consumo_industrial_por_UF.csv'\n",
    "df_consumo_industrial = pd.read_csv(path2_consumo_industrial)\n",
    "df_consumo_industrial.head(1)"
   ]
  },
  {
   "cell_type": "code",
   "execution_count": null,
   "metadata": {},
   "outputs": [],
   "source": [
    "df_i = pd.DataFrame(\n",
    "    columns=['Timestamp', 'Estado', 'Consumo Industrial']\n",
    "    )\n",
    "df_i\n",
    "for idx, row in df_consumo_industrial.iterrows():\n",
    "    timestamp = []\n",
    "    estado = []\n",
    "    consumo_industrial = []\n",
    "    for key in row.keys():\n",
    "        timestamp.append(key)\n",
    "        estado.append(row['UF'])\n",
    "        consumo_industrial.append(row[key])\n",
    "    data = {\n",
    "        'Timestamp': timestamp,\n",
    "        'Estado': estado,\n",
    "        'Consumo Industrial': consumo_industrial\n",
    "    }\n",
    "    df_i = pd.concat([df_i, pd.DataFrame.from_dict(data)])\n",
    "df_i = df_i[1:]\n",
    "df_i"
   ]
  },
  {
   "attachments": {},
   "cell_type": "markdown",
   "metadata": {},
   "source": [
    "### Total"
   ]
  },
  {
   "cell_type": "code",
   "execution_count": 140,
   "metadata": {},
   "outputs": [
    {
     "data": {
      "text/html": [
       "<div>\n",
       "<style scoped>\n",
       "    .dataframe tbody tr th:only-of-type {\n",
       "        vertical-align: middle;\n",
       "    }\n",
       "\n",
       "    .dataframe tbody tr th {\n",
       "        vertical-align: top;\n",
       "    }\n",
       "\n",
       "    .dataframe thead th {\n",
       "        text-align: right;\n",
       "    }\n",
       "</style>\n",
       "<table border=\"1\" class=\"dataframe\">\n",
       "  <thead>\n",
       "    <tr style=\"text-align: right;\">\n",
       "      <th></th>\n",
       "      <th>Timestamp</th>\n",
       "      <th>Estado</th>\n",
       "      <th>Consumo Residencial</th>\n",
       "      <th>Consumo Industrial</th>\n",
       "    </tr>\n",
       "  </thead>\n",
       "  <tbody>\n",
       "    <tr>\n",
       "      <th>1</th>\n",
       "      <td>jan. 2004</td>\n",
       "      <td>Rondônia</td>\n",
       "      <td>44.271</td>\n",
       "      <td>17.012</td>\n",
       "    </tr>\n",
       "    <tr>\n",
       "      <th>2</th>\n",
       "      <td>fev. 2004</td>\n",
       "      <td>Rondônia</td>\n",
       "      <td>41.823</td>\n",
       "      <td>15.490</td>\n",
       "    </tr>\n",
       "    <tr>\n",
       "      <th>3</th>\n",
       "      <td>mar. 2004</td>\n",
       "      <td>Rondônia</td>\n",
       "      <td>40.309</td>\n",
       "      <td>18.641</td>\n",
       "    </tr>\n",
       "    <tr>\n",
       "      <th>4</th>\n",
       "      <td>abr. 2004</td>\n",
       "      <td>Rondônia</td>\n",
       "      <td>41.622</td>\n",
       "      <td>16.961</td>\n",
       "    </tr>\n",
       "    <tr>\n",
       "      <th>5</th>\n",
       "      <td>mai. 2004</td>\n",
       "      <td>Rondônia</td>\n",
       "      <td>42.820</td>\n",
       "      <td>17.462</td>\n",
       "    </tr>\n",
       "    <tr>\n",
       "      <th>...</th>\n",
       "      <td>...</td>\n",
       "      <td>...</td>\n",
       "      <td>...</td>\n",
       "      <td>...</td>\n",
       "    </tr>\n",
       "    <tr>\n",
       "      <th>225</th>\n",
       "      <td>set. 2022</td>\n",
       "      <td>Distrito Federal</td>\n",
       "      <td>217.174</td>\n",
       "      <td>53.425</td>\n",
       "    </tr>\n",
       "    <tr>\n",
       "      <th>226</th>\n",
       "      <td>out. 2022</td>\n",
       "      <td>Distrito Federal</td>\n",
       "      <td>215.351</td>\n",
       "      <td>56.137</td>\n",
       "    </tr>\n",
       "    <tr>\n",
       "      <th>227</th>\n",
       "      <td>nov. 2022</td>\n",
       "      <td>Distrito Federal</td>\n",
       "      <td>212.759</td>\n",
       "      <td>49.636</td>\n",
       "    </tr>\n",
       "    <tr>\n",
       "      <th>228</th>\n",
       "      <td>dez. 2022</td>\n",
       "      <td>Distrito Federal</td>\n",
       "      <td>212.519</td>\n",
       "      <td>49.845</td>\n",
       "    </tr>\n",
       "    <tr>\n",
       "      <th>229</th>\n",
       "      <td>jan. 2023</td>\n",
       "      <td>Distrito Federal</td>\n",
       "      <td>196.415</td>\n",
       "      <td>44.339</td>\n",
       "    </tr>\n",
       "  </tbody>\n",
       "</table>\n",
       "<p>6209 rows × 4 columns</p>\n",
       "</div>"
      ],
      "text/plain": [
       "     Timestamp            Estado Consumo Residencial Consumo Industrial\n",
       "1    jan. 2004          Rondônia              44.271             17.012\n",
       "2    fev. 2004          Rondônia              41.823             15.490\n",
       "3    mar. 2004          Rondônia              40.309             18.641\n",
       "4    abr. 2004          Rondônia              41.622             16.961\n",
       "5    mai. 2004          Rondônia              42.820             17.462\n",
       "..         ...               ...                 ...                ...\n",
       "225  set. 2022  Distrito Federal             217.174             53.425\n",
       "226  out. 2022  Distrito Federal             215.351             56.137\n",
       "227  nov. 2022  Distrito Federal             212.759             49.636\n",
       "228  dez. 2022  Distrito Federal             212.519             49.845\n",
       "229  jan. 2023  Distrito Federal             196.415             44.339\n",
       "\n",
       "[6209 rows x 4 columns]"
      ]
     },
     "execution_count": 140,
     "metadata": {},
     "output_type": "execute_result"
    }
   ],
   "source": [
    "df = df_r\n",
    "df['Consumo Industrial'] = df_i['Consumo Industrial']\n",
    "df"
   ]
  },
  {
   "cell_type": "code",
   "execution_count": 141,
   "metadata": {},
   "outputs": [],
   "source": [
    "df.to_csv('./data.csv')"
   ]
  },
  {
   "attachments": {},
   "cell_type": "markdown",
   "metadata": {},
   "source": [
    "## Social"
   ]
  },
  {
   "cell_type": "code",
   "execution_count": null,
   "metadata": {},
   "outputs": [],
   "source": []
  }
 ],
 "metadata": {
  "kernelspec": {
   "display_name": ".venv",
   "language": "python",
   "name": "python3"
  },
  "language_info": {
   "codemirror_mode": {
    "name": "ipython",
    "version": 3
   },
   "file_extension": ".py",
   "mimetype": "text/x-python",
   "name": "python",
   "nbconvert_exporter": "python",
   "pygments_lexer": "ipython3",
   "version": "3.11.2"
  },
  "orig_nbformat": 4
 },
 "nbformat": 4,
 "nbformat_minor": 2
}
